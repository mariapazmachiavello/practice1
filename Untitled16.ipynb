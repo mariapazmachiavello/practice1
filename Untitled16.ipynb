{
  "nbformat": 4,
  "nbformat_minor": 0,
  "metadata": {
    "colab": {
      "provenance": [],
      "authorship_tag": "ABX9TyN+qDBpo3gdMIgI8HLKomIR",
      "include_colab_link": true
    },
    "kernelspec": {
      "name": "python3",
      "display_name": "Python 3"
    },
    "language_info": {
      "name": "python"
    }
  },
  "cells": [
    {
      "cell_type": "markdown",
      "metadata": {
        "id": "view-in-github",
        "colab_type": "text"
      },
      "source": [
        "<a href=\"https://colab.research.google.com/github/mariapazmachiavello/practice1/blob/main/Untitled16.ipynb\" target=\"_parent\"><img src=\"https://colab.research.google.com/assets/colab-badge.svg\" alt=\"Open In Colab\"/></a>"
      ]
    },
    {
      "cell_type": "code",
      "execution_count": 1,
      "metadata": {
        "colab": {
          "base_uri": "https://localhost:8080/"
        },
        "id": "i4PJPxFtQLPu",
        "outputId": "98dcd236-68ee-495b-e844-cffb90bbd759"
      },
      "outputs": [
        {
          "output_type": "stream",
          "name": "stdout",
          "text": [
            "Cloning into 'ucu_pad_practice_2023_01'...\n",
            "remote: Enumerating objects: 25, done.\u001b[K\n",
            "remote: Counting objects: 100% (25/25), done.\u001b[K\n",
            "remote: Compressing objects: 100% (21/21), done.\u001b[K\n",
            "remote: Total 25 (delta 4), reused 13 (delta 1), pack-reused 0\u001b[K\n",
            "Receiving objects: 100% (25/25), 601.23 KiB | 1.99 MiB/s, done.\n",
            "Resolving deltas: 100% (4/4), done.\n"
          ]
        }
      ],
      "source": [
        "!git clone https://github.com/hchocobar/ucu_pad_practice_2023_01.git"
      ]
    },
    {
      "cell_type": "code",
      "source": [
        "filename = \"../data/mbox-short.txt\"\n",
        "file = open(filename)\n",
        "text = file.read()\n",
        "\n",
        "#objetivo: extraer numeros de cada fila\n",
        "\n",
        "text =\n"
      ],
      "metadata": {
        "id": "4DB0kM4rR2q8"
      },
      "execution_count": null,
      "outputs": []
    }
  ]
}